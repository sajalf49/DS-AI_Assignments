{
 "cells": [
  {
   "cell_type": "markdown",
   "id": "a255ec21",
   "metadata": {},
   "source": [
    "# Week 1 Assignment — Orientation & Setup\n",
    "\n",
    "**Name:** Sajal Farhan  \n",
    "**Roll No:** 24  \n",
    "**Assigned Project (by roll number last digit):** Credit Card Fraud Detection  \n",
    "\n",
    "---\n",
    "\n",
    "### Notebook Overview\n",
    "This is my submission for **Week 1**. I have completed the following tasks:\n",
    "- Confirmed my project assignment using my roll number.  \n",
    "- Loaded the **Titanic dataset** (sample, 20 rows) and displayed the first 10 rows.  \n"
   ]
  },
  {
   "cell_type": "markdown",
   "id": "1e67bbcb",
   "metadata": {},
   "source": [
    "## 1) Project Selection\n",
    "\n",
    "The project is assigned based on the **last digit** of my roll number:\n",
    "\n",
    "```\n",
    "1 → House Price Prediction\n",
    "2 → Customer Churn Prediction\n",
    "3 → Fake News Detection\n",
    "4 → Credit Card Fraud Detection\n",
    "5 → E-commerce Recommendation System\n",
    "6 → Sentiment Analysis on Twitter Data\n",
    "7 → Medical Diagnosis (Disease Prediction)\n",
    "8 → Stock Price Forecasting\n",
    "9 → Image-based Waste Classification\n",
    "0 → Student Performance Prediction\n",
    "```\n",
    "\n",
    "My roll number is **24**, so the last digit is **4**.  \n",
    "➡️ My assigned project is **Credit Card Fraud Detection**.\n"
   ]
  },
  {
   "cell_type": "markdown",
   "id": "34e77784",
   "metadata": {},
   "source": [
    "## 2) Assignment — Titanic Dataset\n",
    "\n",
    "For Week 1, I was asked to load a dataset and show the first 10 rows.\n",
    "\n",
    "Instead of Iris, I chose the **Titanic dataset**. Since I only need a sample for practice, I created a **Titanic dataset with 20 rows** inside this notebook.\n"
   ]
  },
  {
   "cell_type": "code",
   "execution_count": null,
   "id": "4aadb8cc",
   "metadata": {},
   "outputs": [],
   "source": [
    "# Step 1: Confirm project based on roll number\n",
    "roll_no = 24\n",
    "last_digit = roll_no % 10\n",
    "\n",
    "projects = {\n",
    "    1: 'House Price Prediction',\n",
    "    2: 'Customer Churn Prediction',\n",
    "    3: 'Fake News Detection',\n",
    "    4: 'Credit Card Fraud Detection',\n",
    "    5: 'E-commerce Recommendation System',\n",
    "    6: 'Sentiment Analysis on Twitter Data',\n",
    "    7: 'Medical Diagnosis (Disease Prediction)',\n",
    "    8: 'Stock Price Forecasting',\n",
    "    9: 'Image-based Waste Classification',\n",
    "    0: 'Student Performance Prediction'\n",
    "}\n",
    "\n",
    "project_assigned = projects[last_digit]\n",
    "\n",
    "print(f\"My Roll Number: {roll_no}\")\n",
    "print(f\"Last Digit: {last_digit}\")\n",
    "print(f\"My Assigned Project: {project_assigned}\")"
   ]
  },
  {
   "cell_type": "code",
   "execution_count": null,
   "id": "7f972472",
   "metadata": {},
   "outputs": [],
   "source": [
    "# Step 2: Create Titanic dataset (20 rows)\n",
    "import pandas as pd\n",
    "\n",
    "data = {\n",
    "    'PassengerId': list(range(1, 21)),\n",
    "    'Survived':    [0,1,1,1,0,0,1,0,1,0,1,0,0,1,1,0,0,1,0,1],\n",
    "    'Pclass':      [3,1,3,1,3,3,2,3,1,2,3,1,3,2,1,3,2,1,3,3],\n",
    "    'Name': [\n",
    "        'Braund, Mr. Owen Harris',\n",
    "        'Cumings, Mrs. John Bradley (Florence Briggs Thayer)',\n",
    "        'Heikkinen, Miss. Laina',\n",
    "        'Futrelle, Mrs. Jacques Heath (Lily May Peel)',\n",
    "        'Allen, Mr. William Henry',\n",
    "        'Moran, Mr. James',\n",
    "        'McCarthy, Mr. Timothy J',\n",
    "        'Palsson, Master. Gosta Leonard',\n",
    "        'Johnson, Mrs. Oscar W (Elisabeth Vilhelmina Berg)',\n",
    "        'Nasser, Mrs. Nicholas (Adele Achem)',\n",
    "        'Sandstrom, Miss. Marguerite',\n",
    "        'Bonnell, Miss. Elizabeth',\n",
    "        'Saundercock, Mr. William Henry',\n",
    "        'Andersson, Mr. Anders Johan',\n",
    "        'Vestrom, Miss. Hulda Amanda Adolfina',\n",
    "        'Hewlett, Mrs. (Mary D Kingcome)',\n",
    "        'Rice, Master. Eugene',\n",
    "        'Williams, Mr. Charles Eugene',\n",
    "        'Vander Planke, Mrs. Julius (Emelia Maria Vandemoortele)',\n",
    "        'Masselmani, Mrs. Fatima'\n",
    "    ],\n",
    "    'Sex': ['male','female','female','female','male','male','male','male','female','female',\n",
    "            'female','female','male','male','female','female','male','male','female','female'],\n",
    "    'Age': [22,38,26,35,35,27,54,2,27,14,4,58,20,39,14,55,2,34,31,45],\n",
    "    'SibSp': [1,1,0,1,0,0,0,3,1,0,1,0,0,1,0,0,4,0,1,0],\n",
    "    'Parch': [0,0,0,0,0,0,0,1,2,0,1,0,0,5,0,0,1,0,0,0],\n",
    "    'Fare': [7.25,71.2833,7.925,53.1,8.05,8.4583,51.8625,21.075,11.1333,30.0708,\n",
    "             16.7,26.55,8.05,31.275,7.8542,16.0,29.125,13.0,18.0,7.225]\n",
    "}\n",
    "\n",
    "df_titanic = pd.DataFrame(data)\n",
    "df_titanic.head(10)"
   ]
  },
  {
   "cell_type": "markdown",
   "id": "d8d02562",
   "metadata": {},
   "source": [
    "## 3) Conclusion\n",
    "\n",
    "In Week 1, I:\n",
    "- Identified my assigned project (**Credit Card Fraud Detection**).  \n",
    "- Created and displayed the first 10 rows of a Titanic dataset sample.  \n",
    "\n",
    "✅ Week 1 Assignment is complete."
   ]
  }
 ],
 "metadata": {
  "kernelspec": {
   "display_name": "Python 3",
   "language": "python",
   "name": "python3"
  },
  "language_info": {
   "name": "python",
   "version": "3.9"
  }
 },
 "nbformat": 4,
 "nbformat_minor": 5
}
