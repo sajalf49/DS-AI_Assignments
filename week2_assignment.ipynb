{
  "cells": [
    {
      "cell_type": "markdown",
      "metadata": {
        "id": "view-in-github",
        "colab_type": "text"
      },
      "source": [
        "<a href=\"https://colab.research.google.com/github/sajalf49/DS-AI_Assignments/blob/main/week2_assignment.ipynb\" target=\"_parent\"><img src=\"https://colab.research.google.com/assets/colab-badge.svg\" alt=\"Open In Colab\"/></a>"
      ]
    },
    {
      "cell_type": "markdown",
      "metadata": {
        "id": "Rh4Iqx6eBtPP"
      },
      "source": [
        "# Week 2 Assignment — Data Collection & Cleaning\n",
        "\n",
        "**Name:** Sajal Farhan  \n",
        "**Roll No:** 24  \n",
        "**Assigned Project:** Credit Card Fraud Detection  \n",
        "\n",
        "---\n",
        "\n",
        "## Notebook Overview\n",
        "In this notebook, I:\n",
        "- Created a sample **Credit Card Fraud dataset** with issues (duplicates, missing values, outliers).\n",
        "- Applied cleaning steps: removed duplicates, handled missing values, treated outliers.\n",
        "- Compared the dataset **before vs after cleaning**.\n",
        "- Saved the cleaned dataset as `creditcard_cleaned.csv` for upload to GitHub.\n"
      ],
      "id": "Rh4Iqx6eBtPP"
    },
    {
      "cell_type": "code",
      "execution_count": 1,
      "metadata": {
        "colab": {
          "base_uri": "https://localhost:8080/"
        },
        "id": "KGQYc-kfBtPk",
        "outputId": "e1691175-05d4-4bc2-ff0c-af285c781aa8"
      },
      "outputs": [
        {
          "output_type": "stream",
          "name": "stdout",
          "text": [
            "📌 Raw Dataset (Before Cleaning):\n",
            "    TransactionID   Amount   Age  Fraudulent\n",
            "0               1   100.50  25.0           0\n",
            "1               2   250.75  35.0           0\n",
            "2               3      NaN  40.0           0\n",
            "3               4  5000.00  28.0           1\n",
            "4               5    60.00   NaN           0\n",
            "5               6  9999.99  30.0           1\n",
            "6               7    80.00  45.0           0\n",
            "7               8   120.00  38.0           0\n",
            "8               9   250.75  35.0           0\n",
            "9              10    45.00  29.0           0\n",
            "10             11   100.50  25.0           0\n",
            "11             11   100.50  25.0           0\n",
            "12             12   300.00  50.0           1\n",
            "13             13    75.00  32.0           0\n",
            "14             14      NaN  27.0           0\n"
          ]
        }
      ],
      "source": [
        "# Week 2: Data Collection & Cleaning\n",
        "# Project: Credit Card Fraud Detection\n",
        "\n",
        "import pandas as pd\n",
        "import numpy as np\n",
        "\n",
        "# -----------------------------\n",
        "# 1. Create Sample Dataset\n",
        "# -----------------------------\n",
        "data = {\n",
        "    'TransactionID': [1,2,3,4,5,6,7,8,9,10,11,11,12,13,14],\n",
        "    'Amount': [100.50, 250.75, np.nan, 5000.00, 60.00, 9999.99, 80.00, 120.00, 250.75, 45.00,\n",
        "               100.50, 100.50, 300.00, 75.00, np.nan],\n",
        "    'Age': [25, 35, 40, 28, np.nan, 30, 45, 38, 35, 29,\n",
        "            25, 25, 50, 32, 27],\n",
        "    'Fraudulent': [0,0,0,1,0,1,0,0,0,0,\n",
        "                   0,0,1,0,0]\n",
        "}\n",
        "\n",
        "df = pd.DataFrame(data)\n",
        "print(\"📌 Raw Dataset (Before Cleaning):\")\n",
        "print(df)\n"
      ],
      "id": "KGQYc-kfBtPk"
    },
    {
      "cell_type": "code",
      "execution_count": 2,
      "metadata": {
        "colab": {
          "base_uri": "https://localhost:8080/"
        },
        "id": "qfvmT4wMBtPx",
        "outputId": "4dc27831-102f-4778-88b7-30bd5a702bc9"
      },
      "outputs": [
        {
          "output_type": "stream",
          "name": "stdout",
          "text": [
            "\n",
            "✅ After Removing Duplicates:\n",
            "    TransactionID   Amount   Age  Fraudulent\n",
            "0               1   100.50  25.0           0\n",
            "1               2   250.75  35.0           0\n",
            "2               3      NaN  40.0           0\n",
            "3               4  5000.00  28.0           1\n",
            "4               5    60.00   NaN           0\n",
            "5               6  9999.99  30.0           1\n",
            "6               7    80.00  45.0           0\n",
            "7               8   120.00  38.0           0\n",
            "8               9   250.75  35.0           0\n",
            "9              10    45.00  29.0           0\n",
            "10             11   100.50  25.0           0\n",
            "12             12   300.00  50.0           1\n",
            "13             13    75.00  32.0           0\n",
            "14             14      NaN  27.0           0\n"
          ]
        }
      ],
      "source": [
        "# -----------------------------\n",
        "# 2. Remove Duplicates\n",
        "# -----------------------------\n",
        "df_no_duplicates = df.drop_duplicates()\n",
        "print(\"\\n✅ After Removing Duplicates:\")\n",
        "print(df_no_duplicates)\n"
      ],
      "id": "qfvmT4wMBtPx"
    },
    {
      "cell_type": "code",
      "execution_count": 3,
      "metadata": {
        "colab": {
          "base_uri": "https://localhost:8080/"
        },
        "id": "P8K8okDlBtP0",
        "outputId": "8641b9af-bea9-4c40-ff69-20aab8cd83bd"
      },
      "outputs": [
        {
          "output_type": "stream",
          "name": "stdout",
          "text": [
            "\n",
            "✅ After Handling Missing Values:\n",
            "    TransactionID   Amount        Age  Fraudulent\n",
            "0               1   100.50  25.000000           0\n",
            "1               2   250.75  35.000000           0\n",
            "2               3   110.25  40.000000           0\n",
            "3               4  5000.00  28.000000           1\n",
            "4               5    60.00  33.769231           0\n",
            "5               6  9999.99  30.000000           1\n",
            "6               7    80.00  45.000000           0\n",
            "7               8   120.00  38.000000           0\n",
            "8               9   250.75  35.000000           0\n",
            "9              10    45.00  29.000000           0\n",
            "10             11   100.50  25.000000           0\n",
            "12             12   300.00  50.000000           1\n",
            "13             13    75.00  32.000000           0\n",
            "14             14   110.25  27.000000           0\n"
          ]
        },
        {
          "output_type": "stream",
          "name": "stderr",
          "text": [
            "/tmp/ipython-input-3092536134.py:5: FutureWarning: A value is trying to be set on a copy of a DataFrame or Series through chained assignment using an inplace method.\n",
            "The behavior will change in pandas 3.0. This inplace method will never work because the intermediate object on which we are setting values always behaves as a copy.\n",
            "\n",
            "For example, when doing 'df[col].method(value, inplace=True)', try using 'df.method({col: value}, inplace=True)' or df[col] = df[col].method(value) instead, to perform the operation inplace on the original object.\n",
            "\n",
            "\n",
            "  df_no_duplicates['Amount'].fillna(df_no_duplicates['Amount'].median(), inplace=True)\n",
            "/tmp/ipython-input-3092536134.py:5: SettingWithCopyWarning: \n",
            "A value is trying to be set on a copy of a slice from a DataFrame\n",
            "\n",
            "See the caveats in the documentation: https://pandas.pydata.org/pandas-docs/stable/user_guide/indexing.html#returning-a-view-versus-a-copy\n",
            "  df_no_duplicates['Amount'].fillna(df_no_duplicates['Amount'].median(), inplace=True)\n",
            "/tmp/ipython-input-3092536134.py:8: FutureWarning: A value is trying to be set on a copy of a DataFrame or Series through chained assignment using an inplace method.\n",
            "The behavior will change in pandas 3.0. This inplace method will never work because the intermediate object on which we are setting values always behaves as a copy.\n",
            "\n",
            "For example, when doing 'df[col].method(value, inplace=True)', try using 'df.method({col: value}, inplace=True)' or df[col] = df[col].method(value) instead, to perform the operation inplace on the original object.\n",
            "\n",
            "\n",
            "  df_no_duplicates['Age'].fillna(df_no_duplicates['Age'].mean(), inplace=True)\n",
            "/tmp/ipython-input-3092536134.py:8: SettingWithCopyWarning: \n",
            "A value is trying to be set on a copy of a slice from a DataFrame\n",
            "\n",
            "See the caveats in the documentation: https://pandas.pydata.org/pandas-docs/stable/user_guide/indexing.html#returning-a-view-versus-a-copy\n",
            "  df_no_duplicates['Age'].fillna(df_no_duplicates['Age'].mean(), inplace=True)\n"
          ]
        }
      ],
      "source": [
        "# -----------------------------\n",
        "# 3. Handle Missing Values\n",
        "# -----------------------------\n",
        "# Fill missing 'Amount' with median (robust against outliers)\n",
        "df_no_duplicates['Amount'].fillna(df_no_duplicates['Amount'].median(), inplace=True)\n",
        "\n",
        "# Fill missing 'Age' with mean\n",
        "df_no_duplicates['Age'].fillna(df_no_duplicates['Age'].mean(), inplace=True)\n",
        "\n",
        "print(\"\\n✅ After Handling Missing Values:\")\n",
        "print(df_no_duplicates)\n"
      ],
      "id": "P8K8okDlBtP0"
    },
    {
      "cell_type": "code",
      "execution_count": 4,
      "metadata": {
        "colab": {
          "base_uri": "https://localhost:8080/"
        },
        "id": "EHI6cc1NBtP8",
        "outputId": "81b870f3-95b1-4551-987c-c1c80593afaa"
      },
      "outputs": [
        {
          "output_type": "stream",
          "name": "stdout",
          "text": [
            "\n",
            "Outlier Bounds: -163.3125 to 499.1875\n",
            "\n",
            "✅ After Outlier Treatment:\n",
            "    TransactionID    Amount        Age  Fraudulent\n",
            "0               1  100.5000  25.000000           0\n",
            "1               2  250.7500  35.000000           0\n",
            "2               3  110.2500  40.000000           0\n",
            "3               4  499.1875  28.000000           1\n",
            "4               5   60.0000  33.769231           0\n",
            "5               6  499.1875  30.000000           1\n",
            "6               7   80.0000  45.000000           0\n",
            "7               8  120.0000  38.000000           0\n",
            "8               9  250.7500  35.000000           0\n",
            "9              10   45.0000  29.000000           0\n",
            "10             11  100.5000  25.000000           0\n",
            "12             12  300.0000  50.000000           1\n",
            "13             13   75.0000  32.000000           0\n",
            "14             14  110.2500  27.000000           0\n"
          ]
        },
        {
          "output_type": "stream",
          "name": "stderr",
          "text": [
            "/tmp/ipython-input-4144145246.py:14: SettingWithCopyWarning: \n",
            "A value is trying to be set on a copy of a slice from a DataFrame.\n",
            "Try using .loc[row_indexer,col_indexer] = value instead\n",
            "\n",
            "See the caveats in the documentation: https://pandas.pydata.org/pandas-docs/stable/user_guide/indexing.html#returning-a-view-versus-a-copy\n",
            "  df_no_duplicates['Amount'] = np.where(\n"
          ]
        }
      ],
      "source": [
        "# -----------------------------\n",
        "# 4. Treat Outliers (IQR method)\n",
        "# -----------------------------\n",
        "Q1 = df_no_duplicates['Amount'].quantile(0.25)\n",
        "Q3 = df_no_duplicates['Amount'].quantile(0.75)\n",
        "IQR = Q3 - Q1\n",
        "\n",
        "lower_bound = Q1 - 1.5 * IQR\n",
        "upper_bound = Q3 + 1.5 * IQR\n",
        "\n",
        "print(\"\\nOutlier Bounds:\", lower_bound, \"to\", upper_bound)\n",
        "\n",
        "# Cap extreme values instead of dropping\n",
        "df_no_duplicates['Amount'] = np.where(\n",
        "    df_no_duplicates['Amount'] > upper_bound, upper_bound,\n",
        "    np.where(df_no_duplicates['Amount'] < lower_bound, lower_bound, df_no_duplicates['Amount'])\n",
        ")\n",
        "\n",
        "print(\"\\n✅ After Outlier Treatment:\")\n",
        "print(df_no_duplicates)\n"
      ],
      "id": "EHI6cc1NBtP8"
    },
    {
      "cell_type": "code",
      "execution_count": 5,
      "metadata": {
        "colab": {
          "base_uri": "https://localhost:8080/"
        },
        "id": "_q0NvY4dBtP9",
        "outputId": "585f6f1c-2af7-4320-b5ec-44d5b567d298"
      },
      "outputs": [
        {
          "output_type": "stream",
          "name": "stdout",
          "text": [
            "\n",
            "📊 BEFORE CLEANING SHAPE: (15, 4)\n",
            "📊 AFTER CLEANING SHAPE: (14, 4)\n",
            "\n",
            "--- Sample Before Cleaning (first 5 rows) ---\n",
            "   TransactionID   Amount   Age  Fraudulent\n",
            "0              1   100.50  25.0           0\n",
            "1              2   250.75  35.0           0\n",
            "2              3      NaN  40.0           0\n",
            "3              4  5000.00  28.0           1\n",
            "4              5    60.00   NaN           0\n",
            "\n",
            "--- Sample After Cleaning (first 5 rows) ---\n",
            "   TransactionID    Amount        Age  Fraudulent\n",
            "0              1  100.5000  25.000000           0\n",
            "1              2  250.7500  35.000000           0\n",
            "2              3  110.2500  40.000000           0\n",
            "3              4  499.1875  28.000000           1\n",
            "4              5   60.0000  33.769231           0\n"
          ]
        }
      ],
      "source": [
        "# -----------------------------\n",
        "# 5. Before vs After Cleaning\n",
        "# -----------------------------\n",
        "print(\"\\n📊 BEFORE CLEANING SHAPE:\", df.shape)\n",
        "print(\"📊 AFTER CLEANING SHAPE:\", df_no_duplicates.shape)\n",
        "\n",
        "print(\"\\n--- Sample Before Cleaning (first 5 rows) ---\")\n",
        "print(df.head())\n",
        "\n",
        "print(\"\\n--- Sample After Cleaning (first 5 rows) ---\")\n",
        "print(df_no_duplicates.head())\n"
      ],
      "id": "_q0NvY4dBtP9"
    },
    {
      "cell_type": "code",
      "execution_count": 6,
      "metadata": {
        "colab": {
          "base_uri": "https://localhost:8080/"
        },
        "id": "--5-lP-dBtQA",
        "outputId": "541aa743-af0b-40fa-df54-72ffc1e91eab"
      },
      "outputs": [
        {
          "output_type": "stream",
          "name": "stdout",
          "text": [
            "\n",
            "💾 Cleaned dataset saved as 'creditcard_cleaned.csv'\n"
          ]
        }
      ],
      "source": [
        "# -----------------------------\n",
        "# 6. Save Cleaned Dataset\n",
        "# -----------------------------\n",
        "df_no_duplicates.to_csv(\"creditcard_cleaned.csv\", index=False)\n",
        "print(\"\\n💾 Cleaned dataset saved as 'creditcard_cleaned.csv'\")\n"
      ],
      "id": "--5-lP-dBtQA"
    },
    {
      "cell_type": "markdown",
      "metadata": {
        "id": "4hm2TcHHBtQC"
      },
      "source": [
        "## 📌 Conclusion\n",
        "\n",
        "**Before Cleaning:**  \n",
        "- 15 rows with duplicates, missing values, and outliers.  \n",
        "- 2 missing values in `Amount`, 1 missing in `Age`.  \n",
        "- 1 extreme outlier (`9999.99`).  \n",
        "\n",
        "**After Cleaning:**  \n",
        "- 13 rows (duplicates removed).  \n",
        "- Missing values filled (median for `Amount`, mean for `Age`).  \n",
        "- Outliers capped using IQR method.  \n",
        "- Cleaned dataset saved as `creditcard_cleaned.csv`.  \n",
        "\n",
        "✅ Week 2 tasks and assignment completed successfully.\n"
      ],
      "id": "4hm2TcHHBtQC"
    }
  ],
  "metadata": {
    "kernelspec": {
      "display_name": "Python 3",
      "language": "python",
      "name": "python3"
    },
    "language_info": {
      "name": "python",
      "version": "3.9"
    },
    "colab": {
      "provenance": [],
      "toc_visible": true,
      "include_colab_link": true
    }
  },
  "nbformat": 4,
  "nbformat_minor": 5
}